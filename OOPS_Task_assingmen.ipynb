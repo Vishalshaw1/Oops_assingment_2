{
 "cells": [
  {
   "cell_type": "markdown",
   "metadata": {},
   "source": [
    "Q1. Explain Class and Object with respect to Object-Oriented Programming. Give a suitable example."
   ]
  },
  {
   "cell_type": "markdown",
   "metadata": {},
   "source": [
    "Class:                                                                                       \n",
    "i. A class is a blueprint or template for creating objects. It defines the attributes (properties) and methods (behaviors or functions) that the objects created from it will have.                                                                                          \n",
    "ii. Classes encapsulate data and functions into a single unit and allow creating       multiple instances, each with potentially different attribute values.\n",
    "\n",
    "Object:                                                                            \n",
    "i. An object is an instance of a class. When a class is defined, no memory is allocated until an object is created from it.                                                                               \n",
    "ii. Objects contain their own data, which means that each object can have unique attribute values, even if they share the same structure defined by the class.\n",
    "\n",
    "Example:-"
   ]
  },
  {
   "cell_type": "code",
   "execution_count": 1,
   "metadata": {},
   "outputs": [],
   "source": [
    "class Car:\n",
    "    def __init__(self, make, model, color):\n",
    "        self.make = make    # initialize car's make\n",
    "        self.model = model  # initialize car's model\n",
    "        self.color = color  # initialize car's color\n",
    "    def start(self):\n",
    "        print(f\"{self.make} {self.model} is starting.\")\n",
    "\n",
    "    def stop(self):\n",
    "        print(f\"{self.make} {self.model} is stopping.\")\n"
   ]
  },
  {
   "cell_type": "code",
   "execution_count": 2,
   "metadata": {},
   "outputs": [],
   "source": [
    "car1 = Car(\"Toyota\", \"Corolla\", \"Blue\")\n",
    "car2 = Car(\"Honda\", \"Civic\", \"Red\")\n"
   ]
  },
  {
   "cell_type": "code",
   "execution_count": 3,
   "metadata": {},
   "outputs": [
    {
     "name": "stdout",
     "output_type": "stream",
     "text": [
      "Toyota Corolla is starting.\n"
     ]
    }
   ],
   "source": [
    "car1.start()  "
   ]
  },
  {
   "cell_type": "code",
   "execution_count": 5,
   "metadata": {},
   "outputs": [
    {
     "name": "stdout",
     "output_type": "stream",
     "text": [
      "Honda Civic is stopping.\n"
     ]
    }
   ],
   "source": [
    "car2.stop()"
   ]
  },
  {
   "cell_type": "markdown",
   "metadata": {},
   "source": [
    "Q2. Name the four pillars of OOPs."
   ]
  },
  {
   "cell_type": "markdown",
   "metadata": {},
   "source": [
    "Four pillars of Oops are                         i. Encapsulation \n",
    "                                                  ii. Absturction          \n",
    "                                                  iii. Inheritance\n",
    "                                                  iv. Polymorphism"
   ]
  },
  {
   "cell_type": "markdown",
   "metadata": {},
   "source": [
    "Q3. Explain why the init() function is used. Give a suitable example.\n"
   ]
  },
  {
   "cell_type": "markdown",
   "metadata": {},
   "source": [
    "i. Initialization: It lets you initialize or set up the object’s attributes with custom values.          \n",
    "ii. Automatic Invocation: It is called automatically when you create a new instance of a class, simplifying setup.                           \n",
    "iii. Default Values: You can use it to set default values or allow parameters to customize the object.                                                                                                Example:-"
   ]
  },
  {
   "cell_type": "code",
   "execution_count": 6,
   "metadata": {},
   "outputs": [],
   "source": [
    "class Person:\n",
    "    def __init__(self, name, age):\n",
    "        self.name = name  # initialize the name attribute\n",
    "        self.age = age    # initialize the age attribute\n",
    "\n",
    "    def greet(self):\n",
    "        print(f\"Hello, my name is {self.name} and I am {self.age} years old.\")\n",
    "\n"
   ]
  },
  {
   "cell_type": "code",
   "execution_count": 7,
   "metadata": {},
   "outputs": [],
   "source": [
    "person1 = Person(\"Alice\", 30)\n"
   ]
  },
  {
   "cell_type": "code",
   "execution_count": 8,
   "metadata": {},
   "outputs": [
    {
     "name": "stdout",
     "output_type": "stream",
     "text": [
      "Hello, my name is Alice and I am 30 years old.\n"
     ]
    }
   ],
   "source": [
    "person1.greet()"
   ]
  },
  {
   "cell_type": "markdown",
   "metadata": {},
   "source": [
    "Q4. Why self is used in OOPs?"
   ]
  },
  {
   "cell_type": "markdown",
   "metadata": {},
   "source": [
    "The self keyword is essential in OOP in Python because it:\n",
    "\n",
    "i.   Connects data and methods to specific instances.                                           \n",
    "ii.  Enables each object to have its own unique set of data.                                                 \n",
    "iii. Facilitates attribute and method access within the class."
   ]
  },
  {
   "cell_type": "markdown",
   "metadata": {},
   "source": [
    "Q5. What is inheritance? Give an example for each type of inheritance."
   ]
  },
  {
   "cell_type": "markdown",
   "metadata": {},
   "source": [
    "Inheritance is a fundamental concept in Object-Oriented Programming (OOP) that allows a class to inherit attributes and methods from another class. This helps create a hierarchical relationship between classes, promoting code reusability and allowing specialized classes to build on general-purpose classes.\n",
    "\n",
    "i. Single Inheritance:-    A class inherits from only one parent class.\n",
    "\n",
    "Example:-\n"
   ]
  },
  {
   "cell_type": "code",
   "execution_count": 9,
   "metadata": {},
   "outputs": [],
   "source": [
    "class Animal:\n",
    "    def speak(self):\n",
    "        return \"Animal sound\"\n",
    "\n",
    "class Dog(Animal):  # Dog inherits from Animal\n",
    "    def bark(self):\n",
    "        return \"Woof!\""
   ]
  },
  {
   "cell_type": "code",
   "execution_count": 10,
   "metadata": {},
   "outputs": [],
   "source": [
    "dog = Dog()"
   ]
  },
  {
   "cell_type": "code",
   "execution_count": 11,
   "metadata": {},
   "outputs": [
    {
     "name": "stdout",
     "output_type": "stream",
     "text": [
      "Animal sound\n"
     ]
    }
   ],
   "source": [
    "print(dog.speak())"
   ]
  },
  {
   "cell_type": "code",
   "execution_count": 12,
   "metadata": {},
   "outputs": [
    {
     "name": "stdout",
     "output_type": "stream",
     "text": [
      "Woof!\n"
     ]
    }
   ],
   "source": [
    "print(dog.bark())"
   ]
  },
  {
   "cell_type": "markdown",
   "metadata": {},
   "source": [
    "ii. Multiple Inheritance:-  A class inherits from more than one parent class. This allows a class to inherit attributes and methods from multiple classes.\n",
    "\n",
    "Example:-"
   ]
  },
  {
   "cell_type": "code",
   "execution_count": 13,
   "metadata": {},
   "outputs": [],
   "source": [
    "class Flyer:\n",
    "    def fly(self):\n",
    "        return \"Flying\"\n",
    "\n",
    "class Swimmer:\n",
    "    def swim(self):\n",
    "        return \"Swimming\"\n",
    "\n",
    "class Duck(Flyer, Swimmer):\n",
    "    pass"
   ]
  },
  {
   "cell_type": "code",
   "execution_count": 14,
   "metadata": {},
   "outputs": [],
   "source": [
    "duck = Duck()"
   ]
  },
  {
   "cell_type": "code",
   "execution_count": 15,
   "metadata": {},
   "outputs": [
    {
     "name": "stdout",
     "output_type": "stream",
     "text": [
      "Flying\n"
     ]
    }
   ],
   "source": [
    "print(duck.fly())"
   ]
  },
  {
   "cell_type": "code",
   "execution_count": 16,
   "metadata": {},
   "outputs": [
    {
     "name": "stdout",
     "output_type": "stream",
     "text": [
      "Swimming\n"
     ]
    }
   ],
   "source": [
    "print(duck.swim())"
   ]
  },
  {
   "cell_type": "markdown",
   "metadata": {},
   "source": [
    "iii. Multilevel Inheritance:- A class inherits from a class that has already inherited from another class. This forms a chain of inheritance.\n",
    "\n",
    "Example:"
   ]
  },
  {
   "cell_type": "code",
   "execution_count": 17,
   "metadata": {},
   "outputs": [],
   "source": [
    "class Animal:\n",
    "    def breathe(self):\n",
    "        return \"Breathing\"\n",
    "\n",
    "class Mammal(Animal):  # Mammal inherits from Animal\n",
    "    def feed_milk(self):\n",
    "        return \"Feeding milk\"\n",
    "\n",
    "class Dog(Mammal):     # Dog inherits from Mammal\n",
    "    def bark(self):\n",
    "        return \"Woof!\""
   ]
  },
  {
   "cell_type": "code",
   "execution_count": 18,
   "metadata": {},
   "outputs": [],
   "source": [
    "dog = Dog()"
   ]
  },
  {
   "cell_type": "code",
   "execution_count": 19,
   "metadata": {},
   "outputs": [
    {
     "name": "stdout",
     "output_type": "stream",
     "text": [
      "Breathing\n"
     ]
    }
   ],
   "source": [
    "print(dog.breathe())"
   ]
  },
  {
   "cell_type": "code",
   "execution_count": 20,
   "metadata": {},
   "outputs": [
    {
     "name": "stdout",
     "output_type": "stream",
     "text": [
      "Feeding milk\n"
     ]
    }
   ],
   "source": [
    "print(dog.feed_milk())"
   ]
  },
  {
   "cell_type": "code",
   "execution_count": 21,
   "metadata": {},
   "outputs": [
    {
     "name": "stdout",
     "output_type": "stream",
     "text": [
      "Woof!\n"
     ]
    }
   ],
   "source": [
    "print(dog.bark())"
   ]
  },
  {
   "cell_type": "markdown",
   "metadata": {},
   "source": [
    "iv. Hierarchical Inheritance:- Multiple classes inherit from the same parent class.\n",
    "\n",
    "Example:-"
   ]
  },
  {
   "cell_type": "code",
   "execution_count": 22,
   "metadata": {},
   "outputs": [],
   "source": [
    "class Animal:\n",
    "    def speak(self):\n",
    "        return \"Animal sound\"\n",
    "\n",
    "class Cat(Animal):      # Cat inherits from Animal\n",
    "    def meow(self):\n",
    "        return \"Meow\"\n",
    "\n",
    "class Dog(Animal):      # Dog inherits from Animal\n",
    "    def bark(self):\n",
    "        return \"Woof!\"\n"
   ]
  },
  {
   "cell_type": "code",
   "execution_count": 23,
   "metadata": {},
   "outputs": [],
   "source": [
    "cat = Cat()\n",
    "dog = Dog()"
   ]
  },
  {
   "cell_type": "code",
   "execution_count": 24,
   "metadata": {},
   "outputs": [
    {
     "name": "stdout",
     "output_type": "stream",
     "text": [
      "Woof!\n"
     ]
    }
   ],
   "source": [
    "print(dog.bark())"
   ]
  },
  {
   "cell_type": "code",
   "execution_count": 25,
   "metadata": {},
   "outputs": [
    {
     "name": "stdout",
     "output_type": "stream",
     "text": [
      "Meow\n"
     ]
    }
   ],
   "source": [
    "print(cat.meow())"
   ]
  },
  {
   "cell_type": "markdown",
   "metadata": {},
   "source": [
    "\n",
    "v. Hybrid Inheritance:- A combination of two or more types of inheritance in one program, typically involving multiple and multilevel inheritance.\n",
    "\n",
    "Example:-"
   ]
  },
  {
   "cell_type": "code",
   "execution_count": 26,
   "metadata": {},
   "outputs": [],
   "source": [
    "class LivingBeing:\n",
    "    def exist(self):\n",
    "        return \"Existing\"\n",
    "\n",
    "class Animal(LivingBeing):\n",
    "    def breathe(self):\n",
    "        return \"Breathing\"\n",
    "\n",
    "class Bird(LivingBeing):\n",
    "    def fly(self):\n",
    "        return \"Flying\"\n",
    "\n",
    "class Penguin(Bird, Animal):  # Penguin inherits from both Bird and Animal\n",
    "    pass"
   ]
  },
  {
   "cell_type": "code",
   "execution_count": 27,
   "metadata": {},
   "outputs": [],
   "source": [
    "penguin =Penguin()"
   ]
  },
  {
   "cell_type": "code",
   "execution_count": 28,
   "metadata": {},
   "outputs": [
    {
     "name": "stdout",
     "output_type": "stream",
     "text": [
      "Breathing\n"
     ]
    }
   ],
   "source": [
    "print(penguin.breathe())"
   ]
  },
  {
   "cell_type": "code",
   "execution_count": 29,
   "metadata": {},
   "outputs": [
    {
     "name": "stdout",
     "output_type": "stream",
     "text": [
      "Flying\n"
     ]
    }
   ],
   "source": [
    "print(penguin.fly())"
   ]
  },
  {
   "cell_type": "code",
   "execution_count": null,
   "metadata": {},
   "outputs": [],
   "source": []
  }
 ],
 "metadata": {
  "kernelspec": {
   "display_name": "Python 3",
   "language": "python",
   "name": "python3"
  },
  "language_info": {
   "codemirror_mode": {
    "name": "ipython",
    "version": 3
   },
   "file_extension": ".py",
   "mimetype": "text/x-python",
   "name": "python",
   "nbconvert_exporter": "python",
   "pygments_lexer": "ipython3",
   "version": "3.12.6"
  }
 },
 "nbformat": 4,
 "nbformat_minor": 2
}
